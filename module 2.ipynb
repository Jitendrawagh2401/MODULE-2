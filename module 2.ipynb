{
 "cells": [
  {
   "cell_type": "code",
   "execution_count": 2,
   "id": "15e7116d",
   "metadata": {},
   "outputs": [
    {
     "ename": "SyntaxError",
     "evalue": "invalid syntax (1044508398.py, line 8)",
     "output_type": "error",
     "traceback": [
      "\u001b[1;36m  Input \u001b[1;32mIn [2]\u001b[1;36m\u001b[0m\n\u001b[1;33m    else:\u001b[0m\n\u001b[1;37m    ^\u001b[0m\n\u001b[1;31mSyntaxError\u001b[0m\u001b[1;31m:\u001b[0m invalid syntax\n"
     ]
    }
   ],
   "source": [
    "# 5)add 'ing'at the end of given string (length should be at least 3). if the given string already ends with 'ing'then add 'iy' instead. if the string length of the given string is less than 3,leave it unchange\n",
    "def add_string(str1):\n",
    "    length = len(str1)\n",
    "    \n",
    "    if length > 2:\n",
    "        if str1[-3:] == 'ing':\n",
    "            str1 += 'iy'\n",
    "            else:\n",
    "                str1 += 'ing'\n",
    "                return str1\n",
    "            print(add_string('ab'))\n",
    "            print(add_string('abc'))\n",
    "            print(add_string('string'))"
   ]
  },
  {
   "cell_type": "code",
   "execution_count": 15,
   "id": "918ae304",
   "metadata": {
    "scrolled": true
   },
   "outputs": [
    {
     "name": "stdout",
     "output_type": "stream",
     "text": [
      "The india is good\n",
      "The india is poor\n"
     ]
    }
   ],
   "source": [
    "#6)find the first appearences of the substring 'not' and \"poor\"from given string,if 'not' follows the 'poor',replace the whole'not'...'poor' substring with 'good' return the string.\n",
    "\n",
    "def not_poor(str2):\n",
    "    snot = str2.find('not')\n",
    "    spoor = str2.find('poor')\n",
    "    if spoor>snot and snot>0 and spoor>0:\n",
    "        str2 = str2.replace(str2[snot:(spoor+4)], 'good')\n",
    "        return str2\n",
    "    else:\n",
    "        return str2\n",
    "print(not_poor('The india is not that poor'))\n",
    "print(not_poor('The india is poor'))"
   ]
  },
  {
   "cell_type": "code",
   "execution_count": 13,
   "id": "a5f1246c",
   "metadata": {},
   "outputs": [
    {
     "name": "stdout",
     "output_type": "stream",
     "text": [
      "the gcd of 20 and 28 is : 4\n",
      "the gcd of 98 and 56 : 14\n",
      "the gcd of 25 and 50 is: 25\n"
     ]
    }
   ],
   "source": [
    "#7) gretest common divisor of two numbers.\n",
    "import math\n",
    "print(\"the gcd of 20 and 28 is : \" , end=\"\")\n",
    "print(math.gcd(20,28))\n",
    "\n",
    "print(\"the gcd of 98 and 56 : \" , end=\"\")\n",
    "print(math.gcd(98,56))\n",
    "\n",
    "print(\"the gcd of 25 and 50 is: \" , end=\"\")\n",
    "print(math.gcd(25,50))"
   ]
  },
  {
   "cell_type": "code",
   "execution_count": 31,
   "id": "68a409ae",
   "metadata": {},
   "outputs": [
    {
     "name": "stdout",
     "output_type": "stream",
     "text": [
      "True\n",
      "False\n"
     ]
    }
   ],
   "source": [
    "# 8)check whether a list contains a sublist\n",
    "\n",
    "def is_sublist(l,x):\n",
    "    sub_set = False\n",
    "    \n",
    "    if x == []:\n",
    "        sub_set = True\n",
    "    elif x == l:\n",
    "            sub_set =True\n",
    "    elif len(x) > len(l):\n",
    "            sub_set = False\n",
    "    else:\n",
    "                for i in range (len(l)):\n",
    "                    if l[i] == x[0]:\n",
    "                        n =1\n",
    "                        while (n < len(x)) and (l[i+n] == x[n]):\n",
    "                            n +=1\n",
    "                            if n == len(x):\n",
    "                                sub_set = True\n",
    "                            \n",
    "    return sub_set\n",
    "\n",
    "\n",
    "a = [3,4,5,6,7,8,9]\n",
    "b = [5,6]\n",
    "c = [3,9]\n",
    "print (is_sublist(a,b))\n",
    "print (is_sublist(a,c))"
   ]
  },
  {
   "cell_type": "code",
   "execution_count": 43,
   "id": "9f6aa731",
   "metadata": {},
   "outputs": [
    {
     "name": "stdout",
     "output_type": "stream",
     "text": [
      "-2\n",
      "0\n",
      "0\n",
      "None\n",
      "None\n"
     ]
    }
   ],
   "source": [
    "#9)second smallest number\n",
    "def second_smallest(numbers):\n",
    "  if (len(numbers)<2):\n",
    "    return\n",
    "  if ((len(numbers)==2)  and (numbers[0] == numbers[1]) ):\n",
    "    return\n",
    "  dup_items = set()\n",
    "  uniq_items = []\n",
    "  for x in numbers:\n",
    "    if x not in dup_items:\n",
    "      uniq_items.append(x)\n",
    "      dup_items.add(x)\n",
    "  uniq_items.sort()    \n",
    "  return  uniq_items[1]   \n",
    "\n",
    "print(second_smallest([1, 2, -8, -2, 0, -2]))\n",
    "print(second_smallest([1, 1, 0, 0, 2, -2, -2]))\n",
    "print(second_smallest([1, 1, 1, 0, 0, 0, 2, -2, -2]))\n",
    "print(second_smallest([2,2]))\n",
    "print(second_smallest([2]))\n"
   ]
  },
  {
   "cell_type": "code",
   "execution_count": null,
   "id": "d3d56f49",
   "metadata": {},
   "outputs": [],
   "source": []
  }
 ],
 "metadata": {
  "kernelspec": {
   "display_name": "Python 3 (ipykernel)",
   "language": "python",
   "name": "python3"
  },
  "language_info": {
   "codemirror_mode": {
    "name": "ipython",
    "version": 3
   },
   "file_extension": ".py",
   "mimetype": "text/x-python",
   "name": "python",
   "nbconvert_exporter": "python",
   "pygments_lexer": "ipython3",
   "version": "3.9.12"
  }
 },
 "nbformat": 4,
 "nbformat_minor": 5
}
